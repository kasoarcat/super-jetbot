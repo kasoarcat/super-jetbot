{
 "cells": [
  {
   "cell_type": "code",
   "execution_count": 1,
   "metadata": {},
   "outputs": [
    {
     "name": "stdout",
     "output_type": "stream",
     "text": [
      "CPU times: user 8.82 s, sys: 2.76 s, total: 11.6 s\n",
      "Wall time: 13.6 s\n"
     ]
    },
    {
     "data": {
      "text/plain": [
       "<All keys matched successfully>"
      ]
     },
     "execution_count": 1,
     "metadata": {},
     "output_type": "execute_result"
    }
   ],
   "source": [
    "%%time\n",
    "\n",
    "import torch\n",
    "from torch2trt import TRTModule\n",
    "import torchvision.transforms as transforms\n",
    "import torch.nn.functional as F\n",
    "import cv2\n",
    "import PIL.Image\n",
    "import numpy as np\n",
    "from IPython.display import display\n",
    "import ipywidgets\n",
    "import traitlets\n",
    "from jetbot import Camera, bgr8_to_jpeg\n",
    "import time\n",
    "from cameraX import CameraX\n",
    "\n",
    "DO_DISPLAY_CAMERA = False\n",
    "DO_RECORD_CAMERA = False\n",
    "DO_MOTOR = False\n",
    "DO_FPS = True\n",
    "\n",
    "VIDEO_FILENAME = None\n",
    "# VIDEO_FILENAME = '../models/videos/demo.avi'\n",
    "# VIDEO_FILENAME = '../models/videos/result1.avi'\n",
    "# VIDEO_FILENAME = '../models/videos/result2.avi'\n",
    "# VIDEO_FILENAME = '../models/videos/result3.avi'\n",
    "# VIDEO_FILENAME = '../models/videos/result4.avi'\n",
    "\n",
    "# RTR_FILENAME = '../models/resnet18_ds545_0.0123_trt.pth'\n",
    "# RTR_FILENAME = '../models/resnet34_ds545_0.0107_rtr.pth'\n",
    "# RTR_FILENAME = '../models/resnet50_ds545_0.0098_trt.pth'\n",
    "# RTR_FILENAME = '../models/resnet101_ds545_0.0099_trt.pth'\n",
    "\n",
    "# RTR_FILENAME = '../models/densenet121_ds545_0.0145_trt.pth'\n",
    "# RTR_FILENAME = '../models/densenet169_ds545_0.00856_trt.pth'\n",
    "\n",
    "# RTR_FILENAME = '../models/resnet18_DS755_E15_0.0088_trt.pth'\n",
    "# RTR_FILENAME = '../models/resnet34_DS755_E15_0.0089_trt.pth'\n",
    "# RTR_FILENAME = '../models/resnet50_DS755_E15_0.0076_trt.pth'\n",
    "\n",
    "# RTR_FILENAME = '../models/resnext50_32x4d_DS755_E15_0.0079_trt.pth'\n",
    "# RTR_FILENAME = '../models/wide_resnet50_2_DS755_E15_0.0075_trt.pth'\n",
    "# RTR_FILENAME = '../models/mobilenet_v2_DS755_E15_0.0084_trt.pth'\n",
    "RTR_FILENAME = '../models/mobilenet_v2_DS755_E30_0.0076_trt.pth'\n",
    "\n",
    "# 載入TRT\n",
    "device = torch.device('cuda')\n",
    "model_trt = TRTModule()\n",
    "model_trt.load_state_dict(torch.load(RTR_FILENAME))"
   ]
  },
  {
   "cell_type": "code",
   "execution_count": 15,
   "metadata": {},
   "outputs": [
    {
     "name": "stdout",
     "output_type": "stream",
     "text": [
      "format: 0.0\n",
      "Shape: 640.0 480.0 FPS: 30.0\n",
      "Buffer: 0.0\n"
     ]
    },
    {
     "data": {
      "application/vnd.jupyter.widget-view+json": {
       "model_id": "f8ad5aa8c04a4206bb324678fae3aa87",
       "version_major": 2,
       "version_minor": 0
      },
      "text/plain": [
       "HBox(children=(VBox(children=(FloatSlider(value=0.25, description='speed gain', max=1.0, step=0.01), FloatSlid…"
      ]
     },
     "metadata": {},
     "output_type": "display_data"
    },
    {
     "name": "stdout",
     "output_type": "stream",
     "text": [
      "avgFPS:27 FPS:27 "
     ]
    }
   ],
   "source": [
    "mean = torch.Tensor([0.485, 0.456, 0.406]).cuda().half()\n",
    "std = torch.Tensor([0.229, 0.224, 0.225]).cuda().half()\n",
    "\n",
    "def preprocess(image):\n",
    "    image = PIL.Image.fromarray(image)\n",
    "    image = transforms.functional.to_tensor(image).to(device).half()\n",
    "    image.sub_(mean[:, None, None]).div_(std[:, None, None])\n",
    "    return image[None, ...]\n",
    "\n",
    "if VIDEO_FILENAME:\n",
    "    cap = cv2.VideoCapture(VIDEO_FILENAME)\n",
    "    if not cap.isOpened():  # check if we succeeded\n",
    "        print('Error!')\n",
    "    camera = CameraX(**{'cap': cap})\n",
    "else:\n",
    "#     cap = None\n",
    "#     camera = CameraX()\n",
    "    \n",
    "    cap = cv2.VideoCapture(0)\n",
    "    if not cap.isOpened():  # check if we succeeded\n",
    "        print('Error!')\n",
    "    print('format:', cap.get(cv2.CAP_PROP_FORMAT))\n",
    "    camera = CameraX(**{'cap': cap})\n",
    "\n",
    "if DO_DISPLAY_CAMERA:\n",
    "    image_widget = ipywidgets.Image()\n",
    "\n",
    "if DO_MOTOR:\n",
    "    from jetbot import Robot\n",
    "    robot = Robot()\n",
    "\n",
    "speed_gain_slider = ipywidgets.FloatSlider(min=0.0, max=1.0, step=0.01, value=0.25, description='speed gain')\n",
    "steering_gain_slider = ipywidgets.FloatSlider(min=0.0, max=1.0, step=0.01, value=0.07, description='steering gain')\n",
    "steering_dgain_slider = ipywidgets.FloatSlider(min=0.0, max=0.5, step=0.001, value=0.11, description='steering kd')\n",
    "steering_bias_slider = ipywidgets.FloatSlider(min=-0.3, max=0.3, step=0.01, value=0.0, description='steering bias')\n",
    "x_slider = ipywidgets.FloatSlider(min=-1.0, max=1.0, description='x')\n",
    "y_slider = ipywidgets.FloatSlider(min=0, max=1.0, orientation='vertical', description='y')\n",
    "steering_slider = ipywidgets.FloatSlider(min=-1.0, max=1.0, description='steering')\n",
    "speed_slider = ipywidgets.FloatSlider(min=0, max=1.0, orientation='vertical', description='speed')\n",
    "\n",
    "UI_list = [ipywidgets.VBox([speed_gain_slider, steering_gain_slider,\n",
    "                                         steering_dgain_slider, steering_bias_slider]),\n",
    "                                         y_slider, speed_slider,\n",
    "                                         ipywidgets.VBox([x_slider, steering_slider])]\n",
    "if DO_DISPLAY_CAMERA:\n",
    "    UI_list.insert(0, image_widget)\n",
    "\n",
    "display(ipywidgets.HBox(UI_list))\n",
    "\n",
    "angle = 0.0\n",
    "angle_last = 0.0\n",
    "\n",
    "if DO_RECORD_CAMERA:\n",
    "    out = cv2.VideoWriter('../models/result.avi', cv2.VideoWriter_fourcc(*'MJPG'), 30.0, (224, 224))\n",
    "else:\n",
    "    out = None\n",
    "\n",
    "FPS_list = []\n",
    "# drop_frames = 0\n",
    "# num_drop_frames = -1\n",
    "def execute(change):\n",
    "    global angle, angle_last, min_FPS, max_FPS, FPS_list\n",
    "    \n",
    "#     global drop_frames, num_drop_frames\n",
    "#     # 前面N張Frames捨棄不用\n",
    "#     if num_drop_frames <= drop_frames:\n",
    "#         num_drop_frames += 1\n",
    "#         return\n",
    "    \n",
    "    start = time.time()\n",
    "    image = change['new']\n",
    "    if image is None:\n",
    "        return\n",
    "    image = cv2.resize(image, (224, 224))\n",
    "    \n",
    "    xy = model_trt(preprocess(image)).detach().float().cpu().numpy().flatten()\n",
    "    x = xy[0]\n",
    "    y = (0.5 - xy[1]) / 2.0\n",
    "    \n",
    "    x_slider.value = x\n",
    "    y_slider.value = y\n",
    "    speed_slider.value = speed_gain_slider.value\n",
    "    angle = np.arctan2(x, y)\n",
    "    pid = angle * steering_gain_slider.value + (angle - angle_last) * steering_dgain_slider.value\n",
    "    angle_last = angle\n",
    "    \n",
    "    steering_slider.value = pid + steering_bias_slider.value\n",
    "    left_motor = max(min(speed_slider.value + steering_slider.value, 1.0), 0.0)\n",
    "    right_motor = max(min(speed_slider.value - steering_slider.value, 1.0), 0.0)\n",
    "    \n",
    "    # 移動馬達\n",
    "    if DO_MOTOR:\n",
    "        robot.left_motor.value = left_motor\n",
    "        robot.right_motor.value = right_motor\n",
    "    \n",
    "    # 顯示攝影機\n",
    "    if DO_DISPLAY_CAMERA:\n",
    "        image_widget.value = cv2.imencode('.jpg', image)[1].tobytes()\n",
    "    # 紀錄這一張圖片\n",
    "    if DO_RECORD_CAMERA:\n",
    "        out.write(image)\n",
    "    # 顯示預測位置\n",
    "    cv2.putText(image, 'X: {:.2f}'.format(x), (10, 30), cv2.FONT_HERSHEY_TRIPLEX, 1, (0, 255, 255), 1, cv2.LINE_AA)\n",
    "    cv2.putText(image, 'Y: {:.2f}'.format(y), (10, 60), cv2.FONT_HERSHEY_TRIPLEX, 1, (0, 255, 255), 1, cv2.LINE_AA)\n",
    "    # 顯示馬達轉速\n",
    "    cv2.putText(image, 'LM: {:.2f}'.format(left_motor), (10, 90), cv2.FONT_HERSHEY_TRIPLEX, 1, (0, 255, 255), 1, cv2.LINE_AA)\n",
    "    cv2.putText(image, 'RM: {:.2f}'.format(right_motor), (10, 120), cv2.FONT_HERSHEY_TRIPLEX, 1, (0, 255, 255), 1, cv2.LINE_AA)\n",
    "    \n",
    "    # 計算FPS\n",
    "    if DO_FPS:\n",
    "        fps = 1 / (time.time() - start)\n",
    "        FPS_list.append(fps)\n",
    "#         cv2.putText(image, 'FPS: {:.0f}'.format(fps), (10, 210), cv2.FONT_HERSHEY_TRIPLEX, 1, (0, 255, 255), 1, cv2.LINE_AA)\n",
    "        print('\\ravgFPS:{:.0f} FPS:{:.0f} '.format(sum(FPS_list)/len(FPS_list),fps), end='')\n",
    "#         print('\\rFPS:{:.0f} '.format(fps), end='')\n",
    "        \n",
    "camera.observe(execute, names='value')\n",
    "# while(True):\n",
    "#     try:\n",
    "#         v = camera.value\n",
    "#         if v is None:\n",
    "#             print('\\nEnd!')\n",
    "#             break\n",
    "#         execute({'new': v})\n",
    "#     except KeyboardInterrupt:\n",
    "#         print('\\nStop!')\n",
    "#         break\n",
    "# time.sleep(0.1)  # add a small sleep to make sure frames have finished processingn\n",
    "# if DO_MOTOR:\n",
    "#     robot.stop()\n",
    "# camera.stop()\n",
    "# if cap:\n",
    "#     cap.release()\n",
    "# if out:\n",
    "#     out.release()"
   ]
  },
  {
   "cell_type": "code",
   "execution_count": 16,
   "metadata": {},
   "outputs": [
    {
     "name": "stdout",
     "output_type": "stream",
     "text": [
      "avgFPS:27 FPS:30 "
     ]
    }
   ],
   "source": [
    "camera.unobserve(execute, names='value')\n",
    "time.sleep(0.1)  # add a small sleep to make sure frames have finished processing\n",
    "if DO_MOTOR:\n",
    "    robot.stop()\n",
    "camera.stop()\n",
    "if cap:\n",
    "    cap.release()\n",
    "if out:\n",
    "    out.release()"
   ]
  },
  {
   "cell_type": "code",
   "execution_count": 17,
   "metadata": {},
   "outputs": [
    {
     "data": {
      "image/png": "[encoded data removed]",
      "text/plain": [
       "<Figure size 432x288 with 1 Axes>"
      ]
     },
     "metadata": {
      "needs_background": "light"
     },
     "output_type": "display_data"
    }
   ],
   "source": [
    "import matplotlib.pyplot as plt\n",
    "%matplotlib inline\n",
    "\n",
    "plt.plot(FPS_list)\n",
    "plt.xlabel('Frames')\n",
    "plt.ylabel('FPS') ;"
   ]
  },
  {
   "cell_type": "code",
   "execution_count": null,
   "metadata": {},
   "outputs": [],
   "source": []
  }
 ],
 "metadata": {
  "kernelspec": {
   "display_name": "Python 3",
   "language": "python",
   "name": "python3"
  },
  "language_info": {
   "codemirror_mode": {
    "name": "ipython",
    "version": 3
   },
   "file_extension": ".py",
   "mimetype": "text/x-python",
   "name": "python",
   "nbconvert_exporter": "python",
   "pygments_lexer": "ipython3",
   "version": "3.6.9"
  }
 },
 "nbformat": 4,
 "nbformat_minor": 4
}
