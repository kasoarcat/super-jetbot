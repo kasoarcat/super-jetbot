{
 "cells": [
  {
   "cell_type": "code",
   "execution_count": 17,
   "metadata": {},
   "outputs": [],
   "source": [
    "import torch\n",
    "from torch2trt import TRTModule\n",
    "import torchvision.transforms as transforms\n",
    "import torch.nn.functional as F\n",
    "import cv2\n",
    "import PIL.Image\n",
    "import numpy as np\n",
    "from IPython.display import display\n",
    "import ipywidgets\n",
    "import traitlets\n",
    "from jetbot import Camera, bgr8_to_jpeg\n",
    "import time\n",
    "\n",
    "DO_DISPLAY_CAMERA = True\n",
    "DO_RECORD_CAMERA = False\n",
    "DO_MOTOR = True\n",
    "\n",
    "RTR_FILENAME = '../models/resnet18_0.0080_trt.pth'\n",
    "# RTR_FILENAME = '../models/resnet34_0.0069_trt.pth'\n",
    "# RTR_FILENAME = '../models/resnet50_0.0044_trt.pth'"
   ]
  },
  {
   "cell_type": "code",
   "execution_count": 18,
   "metadata": {},
   "outputs": [
    {
     "name": "stdout",
     "output_type": "stream",
     "text": [
      "CPU times: user 1.62 s, sys: 508 ms, total: 2.12 s\n",
      "Wall time: 3.49 s\n"
     ]
    },
    {
     "data": {
      "text/plain": [
       "<All keys matched successfully>"
      ]
     },
     "execution_count": 18,
     "metadata": {},
     "output_type": "execute_result"
    }
   ],
   "source": [
    "%%time\n",
    "\n",
    "device = torch.device('cuda')\n",
    "model_trt = TRTModule()\n",
    "model_trt.load_state_dict(torch.load(RTR_FILENAME))"
   ]
  },
  {
   "cell_type": "code",
   "execution_count": 21,
   "metadata": {},
   "outputs": [
    {
     "data": {
      "application/vnd.jupyter.widget-view+json": {
       "model_id": "8aac476b5e80414190d0731ad12bf9ec",
       "version_major": 2,
       "version_minor": 0
      },
      "text/plain": [
       "Image(value=b'')"
      ]
     },
     "metadata": {},
     "output_type": "display_data"
    },
    {
     "data": {
      "application/vnd.jupyter.widget-view+json": {
       "model_id": "699630605e6f4208918a9e5aaf0dfd02",
       "version_major": 2,
       "version_minor": 0
      },
      "text/plain": [
       "HBox(children=(VBox(children=(FloatSlider(value=0.3, description='speed gain', max=1.0, step=0.01), FloatSlide…"
      ]
     },
     "metadata": {},
     "output_type": "display_data"
    }
   ],
   "source": [
    "mean = torch.Tensor([0.485, 0.456, 0.406]).cuda().half()\n",
    "std = torch.Tensor([0.229, 0.224, 0.225]).cuda().half()\n",
    "\n",
    "def preprocess(image):\n",
    "    image = PIL.Image.fromarray(image)\n",
    "    image = transforms.functional.to_tensor(image).to(device).half()\n",
    "    image.sub_(mean[:, None, None]).div_(std[:, None, None])\n",
    "    return image[None, ...]\n",
    "\n",
    "camera = Camera()\n",
    "if DO_DISPLAY_CAMERA:\n",
    "    image_widget = ipywidgets.Image()\n",
    "    # traitlets.dlink((camera, 'value'), (image_widget, 'value'), transform=bgr8_to_jpeg)\n",
    "    display(image_widget)\n",
    "\n",
    "if DO_MOTOR:\n",
    "    from jetbot import Robot\n",
    "    robot = Robot()\n",
    "\n",
    "speed_gain_slider = ipywidgets.FloatSlider(min=0.0, max=1.0, step=0.01, value=0.3, description='speed gain')\n",
    "steering_gain_slider = ipywidgets.FloatSlider(min=0.0, max=1.0, step=0.01, value=0.2, description='steering gain')\n",
    "steering_dgain_slider = ipywidgets.FloatSlider(min=0.0, max=0.5, step=0.001, value=0.0, description='steering kd')\n",
    "steering_bias_slider = ipywidgets.FloatSlider(min=-0.3, max=0.3, step=0.01, value=0.0, description='steering bias')\n",
    "x_slider = ipywidgets.FloatSlider(min=-1.0, max=1.0, description='x')\n",
    "y_slider = ipywidgets.FloatSlider(min=0, max=1.0, orientation='vertical', description='y')\n",
    "steering_slider = ipywidgets.FloatSlider(min=-1.0, max=1.0, description='steering')\n",
    "speed_slider = ipywidgets.FloatSlider(min=0, max=1.0, orientation='vertical', description='speed')\n",
    "display(ipywidgets.HBox([ipywidgets.VBox([speed_gain_slider, steering_gain_slider,\n",
    "                                         steering_dgain_slider, steering_bias_slider]),\n",
    "                         y_slider, speed_slider,\n",
    "                         ipywidgets.VBox([x_slider, steering_slider])]))\n",
    "\n",
    "angle = 0.0\n",
    "angle_last = 0.0\n",
    "\n",
    "if DO_RECORD_CAMERA:\n",
    "    record_camera = cv2.VideoWriter('result.avi', cv2.VideoWriter_fourcc(*'MJPG'), 10.0, (320, 480))\n",
    "\n",
    "def execute(change):\n",
    "    global angle, angle_last\n",
    "    start = time.time()\n",
    "    image = change['new']\n",
    "    \n",
    "    if DO_DISPLAY_CAMERA:\n",
    "        image_widget.value = cv2.imencode('.jpg', image)[1].tobytes()\n",
    "    \n",
    "    xy = model_trt(preprocess(image)).detach().float().cpu().numpy().flatten()\n",
    "    x = xy[0]\n",
    "    y = (0.5 - xy[1]) / 2.0\n",
    "    \n",
    "    if DO_RECORD_CAMERA:\n",
    "        cv2.putText(image, 'X: {:.2f}'.format(x), (10, 200), cv2.FONT_HERSHEY_TRIPLEX, 1, (0, 255, 255), 1, cv2.LINE_AA)\n",
    "        cv2.putText(image, 'Y: {:.2f}'.format(y), (10, 250), cv2.FONT_HERSHEY_TRIPLEX, 1, (0, 255, 255), 1, cv2.LINE_AA)\n",
    "    \n",
    "#     print('\\r', x, y, end='')\n",
    "    x_slider.value = x\n",
    "    y_slider.value = y\n",
    "    speed_slider.value = speed_gain_slider.value\n",
    "    angle = np.arctan2(x, y)\n",
    "    pid = angle * steering_gain_slider.value + (angle - angle_last) * steering_dgain_slider.value\n",
    "    angle_last = angle\n",
    "    \n",
    "    steering_slider.value = pid + steering_bias_slider.value\n",
    "    if DO_MOTOR:\n",
    "        left_motor = max(min(speed_slider.value + steering_slider.value, 1.0), 0.0)\n",
    "        right_motor = max(min(speed_slider.value - steering_slider.value, 1.0), 0.0)\n",
    "#         robot.left_motor.value = left_motor\n",
    "#         robot.right_motor.value = right_motor\n",
    "#         print('motor: {:.2f} {:.2f}'.format(left_motor, right_motor), end='\\n')\n",
    "        \n",
    "        if DO_RECORD_CAMERA:\n",
    "            cv2.putText(image, 'left_motor: {:.2f}'.format(x), (10, 300), cv2.FONT_HERSHEY_TRIPLEX, 1, (0, 255, 255), 1, cv2.LINE_AA)\n",
    "            cv2.putText(image, 'right_motor: {:.2f}'.format(y), (10, 350), cv2.FONT_HERSHEY_TRIPLEX, 1, (0, 255, 255), 1, cv2.LINE_AA)\n",
    "     # 紀錄這一張圖片\n",
    "    if DO_RECORD_CAMERA:\n",
    "        out.write(change['new'])\n",
    "\n",
    "    # 計算FPS\n",
    "    fps = 1 / (time.time() - start)\n",
    "#     print(\"\\rFPS: {:.0f}\".format(fps), end='')\n",
    "\n",
    "camera.observe(execute, names='value')"
   ]
  },
  {
   "cell_type": "code",
   "execution_count": 22,
   "metadata": {},
   "outputs": [],
   "source": [
    "camera.unobserve(execute, names='value')\n",
    "time.sleep(0.1)  # add a small sleep to make sure frames have finished processing\n",
    "if DO_MOTOR:\n",
    "    robot.stop()\n",
    "camera.stop()"
   ]
  },
  {
   "cell_type": "code",
   "execution_count": null,
   "metadata": {},
   "outputs": [],
   "source": []
  }
 ],
 "metadata": {
  "kernelspec": {
   "display_name": "Python 3",
   "language": "python",
   "name": "python3"
  },
  "language_info": {
   "codemirror_mode": {
    "name": "ipython",
    "version": 3
   },
   "file_extension": ".py",
   "mimetype": "text/x-python",
   "name": "python",
   "nbconvert_exporter": "python",
   "pygments_lexer": "ipython3",
   "version": "3.6.9"
  }
 },
 "nbformat": 4,
 "nbformat_minor": 4
}
