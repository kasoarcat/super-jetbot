{
 "cells": [
  {
   "cell_type": "code",
   "execution_count": 1,
   "metadata": {},
   "outputs": [],
   "source": [
    "import torch\n",
    "from torch2trt import TRTModule\n",
    "import torchvision.transforms as transforms\n",
    "import torch.nn.functional as F\n",
    "import cv2\n",
    "import PIL.Image\n",
    "import numpy as np\n",
    "from IPython.display import display\n",
    "import ipywidgets\n",
    "import traitlets\n",
    "from jetbot import Camera, bgr8_to_jpeg\n",
    "import time\n",
    "\n",
    "DO_DISPLAY_CAMERA = False\n",
    "DO_MOTOR = False\n",
    "\n",
    "RTR_FILENAME = 'resnet18_0.0080_trt.pth'\n",
    "# RTR_FILENAME = 'resnet34_0.0069_trt.pth'\n",
    "# RTR_FILENAME = 'resnet50_0.0044_trt.pth'"
   ]
  },
  {
   "cell_type": "code",
   "execution_count": 2,
   "metadata": {},
   "outputs": [
    {
     "name": "stdout",
     "output_type": "stream",
     "text": [
      "CPU times: user 7.4 s, sys: 3.01 s, total: 10.4 s\n",
      "Wall time: 12.4 s\n"
     ]
    },
    {
     "data": {
      "text/plain": [
       "<All keys matched successfully>"
      ]
     },
     "execution_count": 2,
     "metadata": {},
     "output_type": "execute_result"
    }
   ],
   "source": [
    "%%time\n",
    "\n",
    "device = torch.device('cuda')\n",
    "model_trt = TRTModule()\n",
    "model_trt.load_state_dict(torch.load(RTR_FILENAME))"
   ]
  },
  {
   "cell_type": "code",
   "execution_count": 3,
   "metadata": {},
   "outputs": [
    {
     "data": {
      "application/vnd.jupyter.widget-view+json": {
       "model_id": "46c59c4f0f8646adac679571aaa5ee06",
       "version_major": 2,
       "version_minor": 0
      },
      "text/plain": [
       "HBox(children=(VBox(children=(FloatSlider(value=0.0, description='speed gain', max=1.0, step=0.01), FloatSlide…"
      ]
     },
     "metadata": {},
     "output_type": "display_data"
    },
    {
     "name": "stdout",
     "output_type": "stream",
     "text": [
      "FPS: 27\n",
      "Stop!\n"
     ]
    }
   ],
   "source": [
    "mean = torch.Tensor([0.485, 0.456, 0.406]).cuda().half()\n",
    "std = torch.Tensor([0.229, 0.224, 0.225]).cuda().half()\n",
    "\n",
    "def preprocess(image):\n",
    "    image = PIL.Image.fromarray(image)\n",
    "    image = transforms.functional.to_tensor(image).to(device).half()\n",
    "    image.sub_(mean[:, None, None]).div_(std[:, None, None])\n",
    "    return image[None, ...]\n",
    "\n",
    "camera = Camera()\n",
    "if DO_DISPLAY_CAMERA:\n",
    "    image_widget = ipywidgets.Image()\n",
    "    # traitlets.dlink((camera, 'value'), (image_widget, 'value'), transform=bgr8_to_jpeg)\n",
    "    display(image_widget)\n",
    "\n",
    "if DO_MOTOR:\n",
    "    from jetbot import Robot\n",
    "    robot = Robot()\n",
    "\n",
    "speed_gain_slider = ipywidgets.FloatSlider(min=0.0, max=1.0, step=0.01, description='speed gain')\n",
    "steering_gain_slider = ipywidgets.FloatSlider(min=0.0, max=1.0, step=0.01, value=0.2, description='steering gain')\n",
    "steering_dgain_slider = ipywidgets.FloatSlider(min=0.0, max=0.5, step=0.001, value=0.0, description='steering kd')\n",
    "steering_bias_slider = ipywidgets.FloatSlider(min=-0.3, max=0.3, step=0.01, value=0.0, description='steering bias')\n",
    "x_slider = ipywidgets.FloatSlider(min=-1.0, max=1.0, description='x')\n",
    "y_slider = ipywidgets.FloatSlider(min=0, max=1.0, orientation='vertical', description='y')\n",
    "steering_slider = ipywidgets.FloatSlider(min=-1.0, max=1.0, description='steering')\n",
    "speed_slider = ipywidgets.FloatSlider(min=0, max=1.0, orientation='vertical', description='speed')\n",
    "display(ipywidgets.HBox([ipywidgets.VBox([speed_gain_slider, steering_gain_slider,\n",
    "                                         steering_dgain_slider, steering_bias_slider]),\n",
    "                         y_slider, speed_slider,\n",
    "                         ipywidgets.VBox([x_slider, steering_slider])]))\n",
    "\n",
    "angle = 0.0\n",
    "angle_last = 0.0\n",
    "\n",
    "def execute(change):\n",
    "    global angle, angle_last\n",
    "    image = change['new']\n",
    "    if DO_DISPLAY_CAMERA:\n",
    "        image_widget.value = cv2.imencode('.jpg', image)[1].tobytes()\n",
    "    \n",
    "    xy = model_trt(preprocess(image)).detach().float().cpu().numpy().flatten()\n",
    "    x = xy[0]\n",
    "    y = (0.5 - xy[1]) / 2.0\n",
    "    \n",
    "#     print('\\r', x, y, end='')\n",
    "    x_slider.value = x\n",
    "    y_slider.value = y\n",
    "    speed_slider.value = speed_gain_slider.value\n",
    "    angle = np.arctan2(x, y)\n",
    "    pid = angle * steering_gain_slider.value + (angle - angle_last) * steering_dgain_slider.value\n",
    "    angle_last = angle\n",
    "    \n",
    "    steering_slider.value = pid + steering_bias_slider.value\n",
    "    if DO_MOTOR:\n",
    "        robot.left_motor.value = max(min(speed_slider.value + steering_slider.value, 1.0), 0.0)\n",
    "        robot.right_motor.value = max(min(speed_slider.value - steering_slider.value, 1.0), 0.0)\n",
    "\n",
    "# execute({'new': camera.value})\n",
    "# camera.observe(execute, names='value')\n",
    "\n",
    "try:\n",
    "    while True:\n",
    "        start = time.time()\n",
    "        change = {}\n",
    "        img = camera.value\n",
    "        img = cv2.resize(img, (224, 224))\n",
    "        change['new'] = img\n",
    "        execute(change)\n",
    "        # 計算FPS\n",
    "        fps = 1 / (time.time() - start)\n",
    "        print(\"\\rFPS: {:.0f}\".format(fps), end='')\n",
    "except KeyboardInterrupt:\n",
    "    print('\\nStop!')\n",
    "    camera.unobserve(execute, names='value')\n",
    "    time.sleep(0.1)  # add a small sleep to make sure frames have finished processing\n",
    "    if DO_MOTOR:\n",
    "        robot.stop()\n",
    "    camera.stop()"
   ]
  },
  {
   "cell_type": "code",
   "execution_count": null,
   "metadata": {},
   "outputs": [],
   "source": []
  }
 ],
 "metadata": {
  "kernelspec": {
   "display_name": "Python 3",
   "language": "python",
   "name": "python3"
  },
  "language_info": {
   "codemirror_mode": {
    "name": "ipython",
    "version": 3
   },
   "file_extension": ".py",
   "mimetype": "text/x-python",
   "name": "python",
   "nbconvert_exporter": "python",
   "pygments_lexer": "ipython3",
   "version": "3.6.9"
  }
 },
 "nbformat": 4,
 "nbformat_minor": 4
}
