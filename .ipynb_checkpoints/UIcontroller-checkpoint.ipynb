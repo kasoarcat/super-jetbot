{
 "cells": [
  {
   "cell_type": "code",
   "execution_count": null,
   "metadata": {},
   "outputs": [],
   "source": [
    "from jetbot import Robot, Camera, bgr8_to_jpeg\n",
    "import traitlets\n",
    "\n",
    "image = widgets.Image(format='jpeg', width=300, height=300)\n",
    "display(image)\n",
    "\n",
    "robot = Robot()\n",
    "camera = Camera.instance()\n",
    "\n",
    "# left_link = traitlets.dlink((controller.axes[1], 'value'), (robot.left_motor, 'value'), transform=lambda x: -x)\n",
    "# right_link = traitlets.dlink((controller.axes[3], 'value'), (robot.right_motor, 'value'), transform=lambda x: -x)\n",
    "camera_link = traitlets.dlink((camera, 'value'), (image, 'value'), transform=bgr8_to_jpeg)\n",
    "\n",
    "speed = 0.5\n",
    "def controller_forward(change):\n",
    "#     print(change)\n",
    "    if change['old'] == 0.0 and change['new'] == 1.0:\n",
    "        robot.forward(speed)\n",
    "    if change['old'] == 1.0 and change['new'] == 0.0:\n",
    "        robot.stop()\n",
    "\n",
    "def controller_backward(change):\n",
    "#     print(change)\n",
    "    if change['old'] == 0.0 and change['new'] == 1.0:\n",
    "        robot.backward(speed)\n",
    "    if change['old'] == 1.0 and change['new'] == 0.0:\n",
    "        robot.stop()\n",
    "\n",
    "def controller_left(change):\n",
    "#     print(change)\n",
    "    if change['old'] == 0.0 and change['new'] == 1.0:\n",
    "        robot.left(speed)\n",
    "    if change['old'] == 1.0 and change['new'] == 0.0:\n",
    "        robot.stop()\n",
    "\n",
    "def controller_right(change):\n",
    "#     print(change)\n",
    "    if change['old'] == 0.0 and change['new'] == 1.0:\n",
    "        robot.right(speed)\n",
    "    if change['old'] == 1.0 and change['new'] == 0.0:\n",
    "        robot.stop()\n",
    "        \n",
    "controller.buttons[12].observe(controller_forward, names='value')\n",
    "controller.buttons[13].observe(controller_backward, names='value')\n",
    "controller.buttons[15].observe(controller_left, names='value')\n",
    "controller.buttons[14].observe(controller_right, names='value')"
   ]
  }
 ],
 "metadata": {
  "kernelspec": {
   "display_name": "Python 3",
   "language": "python",
   "name": "python3"
  },
  "language_info": {
   "codemirror_mode": {
    "name": "ipython",
    "version": 3
   },
   "file_extension": ".py",
   "mimetype": "text/x-python",
   "name": "python",
   "nbconvert_exporter": "python",
   "pygments_lexer": "ipython3",
   "version": "3.8.5"
  }
 },
 "nbformat": 4,
 "nbformat_minor": 4
}
